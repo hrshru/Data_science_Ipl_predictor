{
 "cells": [
  {
   "cell_type": "markdown",
   "metadata": {},
   "source": [
    "# srap data  from web"
   ]
  },
  {
   "cell_type": "code",
   "execution_count": 1,
   "metadata": {},
   "outputs": [],
   "source": [
    "import requests\n",
    "from bs4 import BeautifulSoup\n",
    "import pandas as pd"
   ]
  },
  {
   "cell_type": "code",
   "execution_count": 29,
   "metadata": {},
   "outputs": [],
   "source": [
    "URL='https://www.iplt20.com/stats/2020/most-runs'\n",
    "page = requests.get(URL)\n",
    "\n",
    "soup = BeautifulSoup(page.content, 'html.parser')\n",
    "table = soup.find('div', attrs = {'class':'js-table'})\n",
    "\n",
    "player_info={}\n",
    "player_name_lst=[]\n",
    "total_match_lst=[]\n",
    "total_inngs_lst=[]\n",
    "runs_lst=[]\n",
    "hs_lst=[]\n",
    "avg_lst=[]\n",
    "sr_lst=[]\n",
    "for row in table.findAll('table', attrs={'table table--scroll-on-tablet top-players'}):\n",
    "    for j in row.findAll('div', attrs={'class':\"top-players__player-name\"}):\n",
    "        player_name_lst.append(j.a['href'].split('/')[-1])\n",
    "    for match in row.findAll('td',attrs={ \"class\":\"top-players__m top-players__padded\"}):\n",
    "        total_match_lst.append(int(match.text.replace('\\n','')))\n",
    "    for ings in row.findAll('td',attrs={\"class\":\"top-players__inns\"}):\n",
    "        total_inngs_lst.append(int(ings.text.replace('\\n','')))\n",
    "    for runs in row.findAll('td',attrs={\"class\":\"top-players__r is-active\"}):\n",
    "#             print(runs.text)\n",
    "            runs_lst.append(int(runs.text.replace('\\n','')))\n",
    "    for hs in row.findAll('td',attrs={\"class\":\"top-players__hs\"}):\n",
    "        hs_lst.append(hs.text.replace('\\n','')) \n",
    "    for avg in row.findAll('td',attrs={\"class\":\"top-players__a\"}):\n",
    "        avg_lst.append(avg.text.replace('\\n',''))\n",
    "    for sr in row.findAll('td',attrs={'class':\"top-players__sr\"}):\n",
    "        sr_lst.append(sr.text.replace('\\n',''))\n",
    "#     print(row)\n",
    "player_info['player_name']=player_name_lst\n",
    "player_info['total_matches']=total_match_lst\n",
    "player_info['innings']=total_inngs_lst\n",
    "player_info['runs']=runs_lst\n",
    "player_info['high_score']=hs_lst\n",
    "player_info['average']=avg_lst\n",
    "player_info['srike_rate']=sr_lst\n",
    "data=pd.DataFrame(player_info)\n",
    "data.to_csv('batsman_info_ipl.csv')\n",
    "    \n",
    "    "
   ]
  },
  {
   "cell_type": "code",
   "execution_count": 30,
   "metadata": {},
   "outputs": [],
   "source": [
    "URL1='https://www.iplt20.com/stats/2020/most-wickets'\n",
    "page1 = requests.get(URL1)\n",
    "\n",
    "soup1 = BeautifulSoup(page1.content, 'html.parser')\n",
    "table1 = soup1.find('div', attrs = {'class':'js-table'})\n",
    "player_info1={}\n",
    "player_name_lst1=[]\n",
    "total_match_lst1=[]\n",
    "wkts_lst=[]\n",
    "avg_lst1=[]\n",
    "sr_lst1=[]\n",
    "for row1 in table1.findAll('table', attrs={'table table--scroll-on-tablet top-players'}):\n",
    "    for k in row1.findAll('div', attrs={'class':\"top-players__player-name\"}):\n",
    "        player_name_lst1.append(k.a['href'].split('/')[-1])\n",
    "#         print(k.a['href'].split('/')[-1])\n",
    "    for match1 in row1.findAll('td',attrs={ \"class\":\"top-players__m top-players__padded\"}):\n",
    "        total_match_lst1.append(int(match1.text.replace('\\n','')))\n",
    "    for wkts in row1.findAll('td',attrs={\"class\":\"top-players__w is-active\"}):\n",
    "            wkts_lst.append(int(wkts.text.replace('\\n','')))\n",
    "    for avg1 in row1.findAll('td',attrs={\"class\":\"top-players__a\"}):\n",
    "        avg_lst1.append(avg1.text.replace('\\n',''))\n",
    "    for sr1 in row1.findAll('td',attrs={'class':\"top-players__sr\"}):\n",
    "        sr_lst1.append(sr1.text.replace('\\n',''))\n",
    "player_info1['player_name']=player_name_lst1\n",
    "player_info1['total_matches']=total_match_lst1\n",
    "player_info1['wickets']=wkts_lst\n",
    "player_info1['average']=avg_lst1\n",
    "player_info1['srike_rate']=sr_lst1\n",
    "data1=pd.DataFrame(player_info1)\n",
    "data1.to_csv('bowller_info_ipl.csv')"
   ]
  },
  {
   "cell_type": "code",
   "execution_count": null,
   "metadata": {},
   "outputs": [],
   "source": []
  }
 ],
 "metadata": {
  "kernelspec": {
   "display_name": "Python 3",
   "language": "python",
   "name": "python3"
  },
  "language_info": {
   "codemirror_mode": {
    "name": "ipython",
    "version": 3
   },
   "file_extension": ".py",
   "mimetype": "text/x-python",
   "name": "python",
   "nbconvert_exporter": "python",
   "pygments_lexer": "ipython3",
   "version": "3.6.9"
  }
 },
 "nbformat": 4,
 "nbformat_minor": 4
}
